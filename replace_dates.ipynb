{
 "cells": [
  {
   "cell_type": "code",
   "execution_count": 1,
   "metadata": {},
   "outputs": [
    {
     "name": "stdout",
     "output_type": "stream",
     "text": [
      "11/23 2019 12/12/21 @ 10:45 9:10 is a date\n",
      "date date date @ date date is a date\n"
     ]
    }
   ],
   "source": [
    "# source: https://stackoverflow.com/questions/37473219/how-to-remove-dates-from-a-list-in-python\n",
    "# source: https://stackoverflow.com/questions/26294245/python-regex-find-all-matches-in-string-and-replace\n",
    "import re\n",
    "\n",
    "def replace_date(text):\n",
    "    # order matters\n",
    "    if re.search(r'[0-9]{2}[\\/,:][0-9]{2}[\\/,:][0-9]{2,4}', text, re.IGNORECASE):\n",
    "        r = re.compile(r'[0-9]{2}[\\/,:][0-9]{2}[\\/,:][0-9]{2,4}', re.IGNORECASE)\n",
    "        text = r.sub(r'date', text)\n",
    "    if re.search(r'[0-9]{1,2}[\\/,:][0-9]{2,4}', text, re.IGNORECASE):\n",
    "        r = re.compile(r'[0-9]{1,2}[\\/,:][0-9]{2,4}', re.IGNORECASE)\n",
    "        text = r.sub(r'date', text)\n",
    "    if re.search(r'[0-9]{4}', text, re.IGNORECASE):\n",
    "        r = re.compile(r'[0-9]{4}', re.IGNORECASE)\n",
    "        text = r.sub(r'date', text)\n",
    "    \n",
    "    return text\n",
    "\n",
    "string = \"11/23 2019 12/12/21 @ 10:45 9:10 is a date\"\n",
    "print(string)\n",
    "print(replace_date(string))"
   ]
  },
  {
   "cell_type": "code",
   "execution_count": null,
   "metadata": {},
   "outputs": [],
   "source": []
  }
 ],
 "metadata": {
  "kernelspec": {
   "display_name": "Python 3",
   "language": "python",
   "name": "python3"
  },
  "language_info": {
   "codemirror_mode": {
    "name": "ipython",
    "version": 3
   },
   "file_extension": ".py",
   "mimetype": "text/x-python",
   "name": "python",
   "nbconvert_exporter": "python",
   "pygments_lexer": "ipython3",
   "version": "3.7.3"
  }
 },
 "nbformat": 4,
 "nbformat_minor": 2
}
