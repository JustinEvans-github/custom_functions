{
 "cells": [
  {
   "cell_type": "code",
   "execution_count": 9,
   "metadata": {},
   "outputs": [],
   "source": [
    "import numpy as np\n",
    "import pandas as pd\n",
    "from sklearn.metrics import accuracy_score, f1_score, precision_score, recall_score"
   ]
  },
  {
   "cell_type": "code",
   "execution_count": 10,
   "metadata": {},
   "outputs": [
    {
     "data": {
      "text/html": [
       "<div>\n",
       "<style scoped>\n",
       "    .dataframe tbody tr th:only-of-type {\n",
       "        vertical-align: middle;\n",
       "    }\n",
       "\n",
       "    .dataframe tbody tr th {\n",
       "        vertical-align: top;\n",
       "    }\n",
       "\n",
       "    .dataframe thead th {\n",
       "        text-align: right;\n",
       "    }\n",
       "</style>\n",
       "<table border=\"1\" class=\"dataframe\">\n",
       "  <thead>\n",
       "    <tr style=\"text-align: right;\">\n",
       "      <th></th>\n",
       "      <th>Unnamed: 0</th>\n",
       "      <th>code</th>\n",
       "      <th>pred</th>\n",
       "      <th>prob</th>\n",
       "    </tr>\n",
       "  </thead>\n",
       "  <tbody>\n",
       "    <tr>\n",
       "      <th>0</th>\n",
       "      <td>8569</td>\n",
       "      <td>LAB RESULTS</td>\n",
       "      <td>LAB RESULTS</td>\n",
       "      <td>0.754411</td>\n",
       "    </tr>\n",
       "    <tr>\n",
       "      <th>1</th>\n",
       "      <td>4669</td>\n",
       "      <td>QUERY ON CURRENT APPOINTMENT</td>\n",
       "      <td>MEDICATION RELATED</td>\n",
       "      <td>0.356858</td>\n",
       "    </tr>\n",
       "    <tr>\n",
       "      <th>2</th>\n",
       "      <td>3916</td>\n",
       "      <td>NEW APPOINTMENT</td>\n",
       "      <td>NEW APPOINTMENT</td>\n",
       "      <td>0.824907</td>\n",
       "    </tr>\n",
       "    <tr>\n",
       "      <th>3</th>\n",
       "      <td>2586</td>\n",
       "      <td>MEDICATION RELATED</td>\n",
       "      <td>NEW APPOINTMENT</td>\n",
       "      <td>0.881867</td>\n",
       "    </tr>\n",
       "    <tr>\n",
       "      <th>4</th>\n",
       "      <td>2149</td>\n",
       "      <td>QUERIES FROM PHARMACY</td>\n",
       "      <td>REFILL</td>\n",
       "      <td>0.847968</td>\n",
       "    </tr>\n",
       "  </tbody>\n",
       "</table>\n",
       "</div>"
      ],
      "text/plain": [
       "   Unnamed: 0                          code                pred      prob\n",
       "0        8569                   LAB RESULTS         LAB RESULTS  0.754411\n",
       "1        4669  QUERY ON CURRENT APPOINTMENT  MEDICATION RELATED  0.356858\n",
       "2        3916               NEW APPOINTMENT     NEW APPOINTMENT  0.824907\n",
       "3        2586            MEDICATION RELATED     NEW APPOINTMENT  0.881867\n",
       "4        2149         QUERIES FROM PHARMACY              REFILL  0.847968"
      ]
     },
     "execution_count": 10,
     "metadata": {},
     "output_type": "execute_result"
    }
   ],
   "source": [
    "df = pd.read_csv('threshold_byerror_data.csv')\n",
    "df.head()"
   ]
  },
  {
   "cell_type": "code",
   "execution_count": 11,
   "metadata": {},
   "outputs": [],
   "source": [
    "# based on the error rate we want to predict at we find what our autocoding rate will be lowered to\n",
    "def threshold_byerror(error_tolerance, code, pred, prob):\n",
    "    df = pd.DataFrame({'code': code, 'pred': pred, 'prob': prob})\n",
    "    \n",
    "    # create a threshold report\n",
    "    range = np.arange(0.5, 1.0, 0.01).tolist()\n",
    "    range.sort(reverse=True)\n",
    "    df_scores = pd.DataFrame(range, columns=['confidence'])\n",
    "\n",
    "    # find the threshold \n",
    "    def threshold_error(data, pred, prob, value):\n",
    "        df_temp = data[data[prob] > value]\n",
    "        accuracy = round(accuracy_score(df_temp['code'], df_temp[pred]) * 100, 2)\n",
    "        error_rate = 100 - accuracy\n",
    "        return error_rate\n",
    "\n",
    "    def threshold_percent(data, prob, value):\n",
    "        count_overall = data.shape[0]\n",
    "        df_temp = data[data[prob] > value]\n",
    "        count_threshold = df_temp.shape[0]\n",
    "        percent = round((count_threshold / count_overall) * 100, 2)\n",
    "        return percent\n",
    "    \n",
    "    df_scores['error'] =  df_scores.apply(lambda row: threshold_error(df, 'pred', 'prob', row['confidence']), axis=1)\n",
    "    df_scores['rate'] =  df_scores.apply(lambda row: threshold_percent(df, 'prob', row['confidence']), axis=1)\n",
    "    df_scores = df_scores.replace(np.nan,0)\n",
    "    \n",
    "    df_selected = df_scores.iloc[(df_scores['error'] - error_tolerance).abs().argsort()[:2]]\n",
    "    threshold_selected = round(df_selected.confidence.iloc[0]*100,2)\n",
    "    error_selected = round(df_selected.error.iloc[0],2)\n",
    "    rate_selected = round(df_selected.rate.iloc[0],2)\n",
    "    #text = (\"Threshold: \" + str(threshold_selected) +\n",
    "    #       \"%. Error: \" + str(error_selected) + \"%. Autocoding: \" + str(rate_selected) + \"%.\")\n",
    "    return threshold_selected, error_selected, rate_selected"
   ]
  },
  {
   "cell_type": "code",
   "execution_count": 14,
   "metadata": {},
   "outputs": [
    {
     "name": "stdout",
     "output_type": "stream",
     "text": [
      "Threshold: 86.0%. Error: 9.48%. Autocoding: 23.2%.\n"
     ]
    }
   ],
   "source": [
    "threshold_selected, error_selected, rate_selected = threshold_byerror(10,df.code,df.pred,df.prob)\n",
    "text = (\"Threshold: \" + str(threshold_selected) +\n",
    "          \"%. Error: \" + str(error_selected) + \"%. Autocoding: \" + str(rate_selected) + \"%.\")\n",
    "print(text)"
   ]
  },
  {
   "cell_type": "code",
   "execution_count": null,
   "metadata": {},
   "outputs": [],
   "source": []
  }
 ],
 "metadata": {
  "kernelspec": {
   "display_name": "Python 3",
   "language": "python",
   "name": "python3"
  },
  "language_info": {
   "codemirror_mode": {
    "name": "ipython",
    "version": 3
   },
   "file_extension": ".py",
   "mimetype": "text/x-python",
   "name": "python",
   "nbconvert_exporter": "python",
   "pygments_lexer": "ipython3",
   "version": "3.7.3"
  }
 },
 "nbformat": 4,
 "nbformat_minor": 2
}
